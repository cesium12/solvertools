{
 "metadata": {
  "language": "Julia",
  "name": ""
 },
 "nbformat": 3,
 "nbformat_minor": 0,
 "worksheets": [
  {
   "cells": [
    {
     "cell_type": "code",
     "collapsed": false,
     "input": [
      "cd(\"/Users/rspeer/code/SolverTools.jl/src\")\n",
      "using Autoreload\n",
      "using DataFrames\n",
      "smart_reload(\"letters.jl\")"
     ],
     "language": "python",
     "metadata": {},
     "outputs": [],
     "prompt_number": 86
    },
    {
     "cell_type": "code",
     "collapsed": false,
     "input": [
      "roman_letters(\"t\u00e9st\")"
     ],
     "language": "python",
     "metadata": {},
     "outputs": [
      {
       "metadata": {},
       "output_type": "pyout",
       "prompt_number": 13,
       "text": [
        "\"TEST\""
       ]
      }
     ],
     "prompt_number": 13
    },
    {
     "cell_type": "code",
     "collapsed": false,
     "input": [
      "unicode_name('#')"
     ],
     "language": "python",
     "metadata": {},
     "outputs": [
      {
       "ename": "LoadError",
       "evalue": "unicode_name not defined\nat In[3]:1",
       "output_type": "pyerr",
       "traceback": [
        "unicode_name not defined\nat In[3]:1"
       ]
      }
     ],
     "prompt_number": 3
    },
    {
     "cell_type": "code",
     "collapsed": false,
     "input": [
      "caesar_shift(\"t\u00e9st\", 7)"
     ],
     "language": "python",
     "metadata": {},
     "outputs": [
      {
       "metadata": {},
       "output_type": "pyout",
       "prompt_number": 41,
       "text": [
        "\"A\u00e9ZA\""
       ]
      }
     ],
     "prompt_number": 41
    },
    {
     "cell_type": "code",
     "collapsed": false,
     "input": [
      "goog = load_wordlist(\"google-books.ascii.freq.txt\")\n",
      "for (word, freq)=goog\n",
      "  if freq == 50000\n",
      "    print(word, '\\n')\n",
      "  end\n",
      "end"
     ],
     "language": "python",
     "metadata": {},
     "outputs": [
      {
       "output_type": "stream",
       "stream": "stdout",
       "text": [
        "ROMANTICIZING\n"
       ]
      },
      {
       "output_type": "stream",
       "stream": "stdout",
       "text": [
        "ARRIVER\n"
       ]
      }
     ],
     "prompt_number": 26
    },
    {
     "cell_type": "code",
     "collapsed": false,
     "input": [
      "grep(r\"iffi\"i, goog, println)"
     ],
     "language": "python",
     "metadata": {},
     "outputs": [
      {
       "output_type": "stream",
       "stream": "stdout",
       "text": [
        "DIFFICULT\n"
       ]
      },
      {
       "output_type": "stream",
       "stream": "stdout",
       "text": [
        "DIFFICULTY\n",
        "DIFFICULTIES\n",
        "GRIFFIN\n",
        "GRIFFITH\n",
        "GRIFFITHS\n",
        "SNIFFING\n",
        "DIFFIDENCE\n",
        "DIFFIDENT\n",
        "DIFFICILE\n",
        "TIFFIN\n",
        "GRIFFINS\n",
        "DIFFI\n",
        "DIFFICULTLY\n",
        "DIFFIDENTLY\n",
        "GRIFFIS\n",
        "DIFFIE\n",
        "DRIFFIELD"
       ]
      },
      {
       "output_type": "stream",
       "stream": "stdout",
       "text": [
        "\n",
        "TRIFFIN\n",
        "DIFFICILES\n",
        "WYCLIFFITE\n",
        "GIFFIN\n",
        "GRIFFING\n",
        "CHIFFINCH\n",
        "KIFFIN\n",
        "DIFFICULTES\n",
        "DIFFICUL\n",
        "DIFFICILIS\n",
        "DIFFICILEMENT"
       ]
      },
      {
       "output_type": "stream",
       "stream": "stdout",
       "text": [
        "\n",
        "DIFFICULTE\n",
        "CLIFFIE\n",
        "SIFFIN\n",
        "TARIFFICATION\n",
        "STIFFISH\n",
        "DIFFICULTIE\n",
        "IFFI\n",
        "DIFFICULTTO\n",
        "RIFFING\n",
        "KNIFFIN\n",
        "COMMIFFION\n",
        "GRIFFITT\n",
        "DIFFICULTV\n",
        "WHIFFING"
       ]
      },
      {
       "output_type": "stream",
       "stream": "stdout",
       "text": [
        "\n",
        "GRIFFISS\n",
        "GRIFFITTS\n",
        "BIFFI\n",
        "DIFFICILI\n",
        "COMMIFFIONERS\n",
        "GRIFFITHII\n",
        "SNIFFIN\n",
        "ARIFFIN\n",
        "RIFFIAN\n",
        "DRIFFILL\n",
        "TRIFFIDS\n",
        "DIFFICULTATE\n",
        "DIFFIOULT\n",
        "DIFFICILIOR\n",
        "BIFFIN\n",
        "WYCLIFFITES\n",
        "DIFFICULTAS\n",
        "GRIFFIOEN"
       ]
      },
      {
       "output_type": "stream",
       "stream": "stdout",
       "text": [
        "\n",
        "RIFFIANS\n",
        "MIFFIN\n",
        "DIFFICUIT\n",
        "MIFFING\n",
        "DIFFICILMENTE\n",
        "DIFFICULTATEM\n",
        "DIFFICOLTA\n",
        "GAIFFIER\n",
        "DIFFICULTATES\n",
        "DIFFICULTYS\n",
        "PECKSNIFFIAN\n",
        "GRIFFITHSIA\n",
        "COIFFIER\n",
        "SKIFFINS\n",
        "MCGIFFIN\n",
        "SPIFFING\n",
        "STIFFING\n",
        "WHIFFIN\n",
        "DIFFIC\n",
        "DIFFIEULT\n",
        "MIFFION\n",
        "TARIFFING\n",
        "DIFFICUH\n",
        "DIFFICULTNESS\n",
        "DIFFIEULTY"
       ]
      },
      {
       "output_type": "stream",
       "stream": "stdout",
       "text": [
        "\n",
        "WICKLIFFITES\n",
        "RIFFI\n",
        "PERMIFFION\n",
        "GRIFFI\n",
        "TERRIFFIC\n",
        "MIFFIIN\n",
        "WYCLIFFISM\n",
        "SKIFFINGTON\n",
        "DIFFICILIUS\n",
        "SNIFFILY\n",
        "GRIFFINI\n",
        "DIFFINITIO\n",
        "DIFFICULTATIBUS\n",
        "JIFFIES\n",
        "DIFFICU\n",
        "DIFFICULTER\n",
        "TIFFINS\n",
        "DIFFICUT\n",
        "TIFFI\n",
        "TRIFFITT\n",
        "LANDRUMGRIFFIN"
       ]
      },
      {
       "output_type": "stream",
       "stream": "stdout",
       "text": [
        "\n",
        "GRIFFIES\n",
        "FUBMIFFION\n",
        "GRIFFIER\n",
        "DIFFINITIONE\n",
        "DIFFICILIA\n",
        "DIFFIEULTIES\n",
        "GRIFFITHIANA\n",
        "ADMIFFION\n",
        "DIFFICILEM"
       ]
      },
      {
       "output_type": "stream",
       "stream": "stdout",
       "text": [
        "\n",
        "TRIFFID\n",
        "IFFICULT\n",
        "PFIFFIG\n",
        "DIFFIDENCES\n",
        "RADCLIFFIAN\n",
        "DIFFIRANCE\n",
        "DIFFICULTI\n",
        "IFFIN\n",
        "DIFFICULTEZ\n",
        "CLIFFING\n",
        "DIFFINITIONEM\n",
        "DIFFICILLIMUM\n",
        "BIFFING\n",
        "WIFFIN\n",
        "GRIFFINTOWN\n",
        "DIFFICUTIES\n",
        "DIFFICULY"
       ]
      },
      {
       "output_type": "stream",
       "stream": "stdout",
       "text": [
        "\n",
        "DIFFIERENT\n",
        "COMMIFFIONED\n",
        "DIFFICULTEST\n",
        "GRIFFITS\n",
        "DIFFICULTATIS\n",
        "DIFFICUITY\n",
        "DIFFINITORES\n",
        "GRIFFITHIANUM\n",
        "DIFFIEHELLMAN\n",
        "SNIFFINGS\n",
        "WIFFI\n",
        "DIFFIDENZA\n",
        "COMMIFFIONS\n",
        "DIFFICUITIES\n",
        "DIFFICULTYES"
       ]
      },
      {
       "output_type": "stream",
       "stream": "stdout",
       "text": [
        "\n",
        "WICKLIFFITE\n",
        "FFIFFI\n",
        "DIFFIDATIO\n",
        "RIFFIN\n",
        "DIFFIOULTY\n",
        "DIFFICULTA\n",
        "GRIFFITHIDES\n",
        "DIFFICILLIMA\n",
        "DIFFINIS\n",
        "DIFFICUHY\n",
        "CHIFFIN\n",
        "GIFFI\n",
        "BIFFINS\n",
        "ISDIFFICULT\n",
        "DIFFICUHIES\n",
        "OMIFFION\n",
        "GRIFFIT\n",
        "IFFING"
       ]
      },
      {
       "output_type": "stream",
       "stream": "stdout",
       "text": [
        "\n",
        "SPIFFIER\n",
        "IFFIELD\n"
       ]
      }
     ],
     "prompt_number": 43
    },
    {
     "cell_type": "code",
     "collapsed": false,
     "input": [
      "ismatch(r\"test\", \"testy\")"
     ],
     "language": "python",
     "metadata": {},
     "outputs": [
      {
       "metadata": {},
       "output_type": "pyout",
       "prompt_number": 44,
       "text": [
        "true"
       ]
      }
     ],
     "prompt_number": 44
    },
    {
     "cell_type": "code",
     "collapsed": false,
     "input": [
      "bigrams(t)"
     ],
     "language": "python",
     "metadata": {},
     "outputs": [
      {
       "metadata": {},
       "output_type": "pyout",
       "prompt_number": 24,
       "text": [
        "3-element Array{UTF8String,1}:\n",
        " \"t\u00e9\"\n",
        " \"\u00e9s\"\n",
        " \"st\""
       ]
      }
     ],
     "prompt_number": 24
    },
    {
     "cell_type": "code",
     "collapsed": false,
     "input": [
      "bfreq = bigram_table(goog)\n",
      "bprob = broadcast(/, float(bfreq), sum(bfreq, 1))\n",
      "blogprob = log2(bprob)"
     ],
     "language": "python",
     "metadata": {},
     "outputs": [
      {
       "metadata": {},
       "output_type": "pyout",
       "prompt_number": 87,
       "text": [
        "27x27 Array{Float64,2}:\n",
        " -11.248     -3.02684    -3.23812  \u2026   -3.27931   -3.22388     -5.10712\n",
        "  -6.06071   -7.31762   -10.889        -3.5999   -10.7673      -9.61592\n",
        "  -4.2377   -11.2015     -5.66313      -5.62886   -6.93755     -7.32649\n",
        "  -6.02416   -9.1716    -10.5304       -5.37423   -8.86821     -3.33482\n",
        "  -3.90467   -5.99711    -3.15723      -3.86438   -4.55002     -2.32042\n",
        "  -5.95879  -12.205     -12.2874   \u2026   -7.83364  -11.7564      -4.42371\n",
        "  -6.06316  -11.1474    -13.3843       -6.32254   -9.64274     -5.0851 \n",
        "  -3.46809   -8.65056   -11.3867       -5.31299   -8.31987     -5.20677\n",
        "  -5.11516   -4.24366    -2.59179     -11.1217    -0.943262    -6.95249\n",
        "  -8.51283  -13.964     -14.3679      -14.8597   -12.7489     -12.0285 \n",
        "  -8.75084  -10.7316    -13.5108   \u2026   -8.20002  -12.4937      -6.94216\n",
        "  -4.24761   -7.91377    -8.35604      -2.31598   -7.60134     -4.84716\n",
        "  -4.15255   -4.36513    -9.61307      -5.07594  -10.6608      -5.90087\n",
        "   \u22ee                               \u22f1               \u22ee                   \n",
        "  -4.96708  -10.3544    -11.4743   \u2026   -7.41364   -9.04795     -7.52083\n",
        " -14.7616   -15.0614    -16.1207      -19.0501   -15.3329     -12.8375 \n",
        "  -3.8674    -6.03283    -5.11677      -3.09271   -6.74727     -4.08237\n",
        "  -5.5086    -7.73619    -4.7219       -5.19506   -7.66839     -2.94754\n",
        "  -4.24886   -9.29102    -7.29281      -3.21829   -4.5205      -3.48686\n",
        "  -6.22322   -4.39469    -4.50153  \u2026   -8.73823   -5.697       -7.96876\n",
        "  -6.15717  -13.8156    -13.5956       -8.71206  -12.0076     -10.6207 \n",
        "  -4.73974  -10.5384    -12.3123       -9.58497  -12.878       -6.93726\n",
        "  -8.42755  -13.843      -7.33828      -9.45901  -14.3104      -9.20261\n",
        "  -9.03738   -8.64586    -8.16849     -13.4425    -6.06424     -4.06229\n",
        "  -8.52814  -12.4891    -14.9265   \u2026   -9.61349   -5.29468    -11.2773 \n",
        "  -1.75034   -0.699696   -1.62147      -3.40098   -3.15965   -Inf      "
       ]
      }
     ],
     "prompt_number": 87
    },
    {
     "cell_type": "code",
     "collapsed": false,
     "input": [
      "ufreq = letter_table(goog)"
     ],
     "language": "python",
     "metadata": {},
     "outputs": [
      {
       "metadata": {},
       "output_type": "pyout",
       "prompt_number": 39,
       "text": [
        "26-element Array{Int64,1}:\n",
        " 147326436259\n",
        "  27304901680\n",
        "  61227220099\n",
        "  69322793980\n",
        " 226916836089\n",
        "  43365717623\n",
        "  34313904462\n",
        "  91337955379\n",
        " 138384251989\n",
        "   2982162378\n",
        "  10261583554\n",
        "  74734420677\n",
        "  46119150109\n",
        " 131845670091\n",
        " 138925966826\n",
        "  39121717335\n",
        "   2232374064\n",
        " 114841223584\n",
        " 118911749446\n",
        " 167830834298\n",
        "  50116522720\n",
        "  19251413057\n",
        "  30211319669\n",
        "   4312634505\n",
        "  30320353781\n",
        "   1857852268"
       ]
      }
     ],
     "prompt_number": 39
    },
    {
     "cell_type": "code",
     "collapsed": false,
     "input": [],
     "language": "python",
     "metadata": {},
     "outputs": []
    }
   ],
   "metadata": {}
  }
 ]
}