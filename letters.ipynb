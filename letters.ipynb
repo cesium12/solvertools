{
 "metadata": {
  "language": "Julia",
  "name": ""
 },
 "nbformat": 3,
 "nbformat_minor": 0,
 "worksheets": [
  {
   "cells": [
    {
     "cell_type": "code",
     "collapsed": false,
     "input": [
      "cd(\"/Users/rspeer/code/solvertools-2014\")\n",
      "using Autoreload\n",
      "using DataFrames\n",
      "smart_reload(\"julia/SolverTools.jl\")"
     ],
     "language": "python",
     "metadata": {},
     "outputs": [],
     "prompt_number": 99
    },
    {
     "cell_type": "code",
     "collapsed": false,
     "input": [
      "roman_letters(\"t\u00e9st\")"
     ],
     "language": "python",
     "metadata": {},
     "outputs": [
      {
       "metadata": {},
       "output_type": "pyout",
       "prompt_number": 91,
       "text": [
        "\"TEST\""
       ]
      }
     ],
     "prompt_number": 91
    },
    {
     "cell_type": "code",
     "collapsed": false,
     "input": [
      "unicode_name('#')"
     ],
     "language": "python",
     "metadata": {},
     "outputs": [
      {
       "metadata": {},
       "output_type": "pyout",
       "prompt_number": 92,
       "text": [
        "\"NUMBER SIGN\""
       ]
      }
     ],
     "prompt_number": 92
    },
    {
     "cell_type": "code",
     "collapsed": false,
     "input": [
      "caesar_shift(\"t\u00e9st\", 7)"
     ],
     "language": "python",
     "metadata": {},
     "outputs": [
      {
       "metadata": {},
       "output_type": "pyout",
       "prompt_number": 93,
       "text": [
        "\"A\u00e9ZA\""
       ]
      }
     ],
     "prompt_number": 93
    },
    {
     "cell_type": "code",
     "collapsed": false,
     "input": [
      "goog = load_wordlist(\"google-books.ascii.freq.txt\")\n",
      "for (word, freq)=goog\n",
      "  if freq == 50000\n",
      "    print(word, '\\n')\n",
      "  end\n",
      "end"
     ],
     "language": "python",
     "metadata": {},
     "outputs": [
      {
       "ename": "LoadError",
       "evalue": "could not open file ../wordlists/google-books.ascii.freq.txt\nat In[100]:1",
       "output_type": "pyerr",
       "traceback": [
        "could not open file ../wordlists/google-books.ascii.freq.txt\nat In[100]:1",
        " in open at io.jl:320",
        " in open at io.jl:330",
        " in readtable at /Users/rspeer/.julia/DataFrames/src/io.jl:574",
        " in load_wordlist at In[99]:147",
        " in load_wordlist at In[99]:146"
       ]
      }
     ],
     "prompt_number": 100
    },
    {
     "cell_type": "code",
     "collapsed": false,
     "input": [
      "grep(r\"^l.......v$\"i, goog, println)"
     ],
     "language": "python",
     "metadata": {},
     "outputs": [
      {
       "output_type": "stream",
       "stream": "stdout",
       "text": [
        "LERMONTOV\n"
       ]
      },
      {
       "output_type": "stream",
       "stream": "stdout",
       "text": [
        "LOMONOSOV\n",
        "LEITMOTIV\n",
        "LIKHACHEV"
       ]
      },
      {
       "output_type": "stream",
       "stream": "stdout",
       "text": [
        "\n",
        "LUBENTSOV"
       ]
      },
      {
       "output_type": "stream",
       "stream": "stdout",
       "text": [
        "\n",
        "LITERALLV"
       ]
      },
      {
       "output_type": "stream",
       "stream": "stdout",
       "text": [
        "\n",
        "LIABILITV"
       ]
      },
      {
       "output_type": "stream",
       "stream": "stdout",
       "text": [
        "\n",
        "LIKHACHOV"
       ]
      },
      {
       "output_type": "stream",
       "stream": "stdout",
       "text": [
        "\n",
        "LIAPOUNOV\n",
        "LYAPOUNOV\n",
        "LEDENTSOV"
       ]
      },
      {
       "output_type": "stream",
       "stream": "stdout",
       "text": [
        "\n",
        "LUTOVINOV"
       ]
      },
      {
       "output_type": "stream",
       "stream": "stdout",
       "text": [
        "\n",
        "LEGENDARV"
       ]
      },
      {
       "output_type": "stream",
       "stream": "stdout",
       "text": [
        "\n",
        "LOKOMOTIV\n",
        "LAKTIONOV"
       ]
      },
      {
       "output_type": "stream",
       "stream": "stdout",
       "text": [
        "\n",
        "LATERALLV\n",
        "LUCHNIKOV\n",
        "LOGICALLV\n"
       ]
      }
     ],
     "prompt_number": 95
    },
    {
     "cell_type": "code",
     "collapsed": false,
     "input": [
      "bigrams(t)"
     ],
     "language": "python",
     "metadata": {},
     "outputs": [
      {
       "metadata": {},
       "output_type": "pyout",
       "prompt_number": 96,
       "text": [
        "3-element Array{UTF8String,1}:\n",
        " \"t\u00e9\"\n",
        " \"\u00e9s\"\n",
        " \"st\""
       ]
      }
     ],
     "prompt_number": 96
    },
    {
     "cell_type": "code",
     "collapsed": false,
     "input": [
      "bfreq = bigram_table(goog)\n",
      "bprob = broadcast(/, float(bfreq), sum(bfreq, 1))\n",
      "blogprob = log2(bprob)"
     ],
     "language": "python",
     "metadata": {},
     "outputs": [
      {
       "metadata": {},
       "output_type": "pyout",
       "prompt_number": 97,
       "text": [
        "27x27 Array{Float64,2}:\n",
        " -11.248     -3.02684    -3.23812  \u2026   -3.27931   -3.22388     -5.10712\n",
        "  -6.06071   -7.31762   -10.889        -3.5999   -10.7673      -9.61592\n",
        "  -4.2377   -11.2015     -5.66313      -5.62886   -6.93755     -7.32649\n",
        "  -6.02416   -9.1716    -10.5304       -5.37423   -8.86821     -3.33482\n",
        "  -3.90467   -5.99711    -3.15723      -3.86438   -4.55002     -2.32042\n",
        "  -5.95879  -12.205     -12.2874   \u2026   -7.83364  -11.7564      -4.42371\n",
        "  -6.06316  -11.1474    -13.3843       -6.32254   -9.64274     -5.0851 \n",
        "  -3.46809   -8.65056   -11.3867       -5.31299   -8.31987     -5.20677\n",
        "  -5.11516   -4.24366    -2.59179     -11.1217    -0.943262    -6.95249\n",
        "  -8.51283  -13.964     -14.3679      -14.8597   -12.7489     -12.0285 \n",
        "  -8.75084  -10.7316    -13.5108   \u2026   -8.20002  -12.4937      -6.94216\n",
        "  -4.24761   -7.91377    -8.35604      -2.31598   -7.60134     -4.84716\n",
        "  -4.15255   -4.36513    -9.61307      -5.07594  -10.6608      -5.90087\n",
        "   \u22ee                               \u22f1               \u22ee                   \n",
        "  -4.96708  -10.3544    -11.4743   \u2026   -7.41364   -9.04795     -7.52083\n",
        " -14.7616   -15.0614    -16.1207      -19.0501   -15.3329     -12.8375 \n",
        "  -3.8674    -6.03283    -5.11677      -3.09271   -6.74727     -4.08237\n",
        "  -5.5086    -7.73619    -4.7219       -5.19506   -7.66839     -2.94754\n",
        "  -4.24886   -9.29102    -7.29281      -3.21829   -4.5205      -3.48686\n",
        "  -6.22322   -4.39469    -4.50153  \u2026   -8.73823   -5.697       -7.96876\n",
        "  -6.15717  -13.8156    -13.5956       -8.71206  -12.0076     -10.6207 \n",
        "  -4.73974  -10.5384    -12.3123       -9.58497  -12.878       -6.93726\n",
        "  -8.42755  -13.843      -7.33828      -9.45901  -14.3104      -9.20261\n",
        "  -9.03738   -8.64586    -8.16849     -13.4425    -6.06424     -4.06229\n",
        "  -8.52814  -12.4891    -14.9265   \u2026   -9.61349   -5.29468    -11.2773 \n",
        "  -1.75034   -0.699696   -1.62147      -3.40098   -3.15965   -Inf      "
       ]
      }
     ],
     "prompt_number": 97
    },
    {
     "cell_type": "code",
     "collapsed": false,
     "input": [
      "ufreq = letter_table(goog)"
     ],
     "language": "python",
     "metadata": {},
     "outputs": [
      {
       "metadata": {},
       "output_type": "pyout",
       "prompt_number": 98,
       "text": [
        "26-element Array{Int64,1}:\n",
        " 147326436259\n",
        "  27304901680\n",
        "  61227220099\n",
        "  69322793980\n",
        " 226916836089\n",
        "  43365717623\n",
        "  34313904462\n",
        "  91337955379\n",
        " 138384251989\n",
        "   2982162378\n",
        "  10261583554\n",
        "  74734420677\n",
        "  46119150109\n",
        " 131845670091\n",
        " 138925966826\n",
        "  39121717335\n",
        "   2232374064\n",
        " 114841223584\n",
        " 118911749446\n",
        " 167830834298\n",
        "  50116522720\n",
        "  19251413057\n",
        "  30211319669\n",
        "   4312634505\n",
        "  30320353781\n",
        "   1857852268"
       ]
      }
     ],
     "prompt_number": 98
    },
    {
     "cell_type": "code",
     "collapsed": false,
     "input": [],
     "language": "python",
     "metadata": {},
     "outputs": []
    }
   ],
   "metadata": {}
  }
 ]
}