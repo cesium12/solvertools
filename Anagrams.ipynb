{
 "metadata": {
  "language": "Julia",
  "name": ""
 },
 "nbformat": 3,
 "nbformat_minor": 0,
 "worksheets": [
  {
   "cells": [
    {
     "cell_type": "code",
     "collapsed": false,
     "input": [
      "cd(\"/home/rspeer/code/solvertools-2014/julia\")\n",
      "using Autoreload\n",
      "arequire(\"SolverTools.jl\")"
     ],
     "language": "python",
     "metadata": {},
     "outputs": [],
     "prompt_number": 1
    },
    {
     "cell_type": "code",
     "collapsed": false,
     "input": [
      "wordlist = load_wordlist(\"../wordlists/google-books.freq.txt\")"
     ],
     "language": "python",
     "metadata": {},
     "outputs": [
      {
       "output_type": "stream",
       "stream": "stdout",
       "text": [
        "Loading wordlist: ../wordlists/google-books.freq.txt\n"
       ]
      },
      {
       "output_type": "stream",
       "stream": "stdout",
       "text": [
        "\tRead 1000000 words"
       ]
      },
      {
       "output_type": "stream",
       "stream": "stdout",
       "text": [
        "\n",
        "\tRead 2000000 words"
       ]
      },
      {
       "output_type": "stream",
       "stream": "stdout",
       "text": [
        "\n",
        "\tRead 3000000 words"
       ]
      },
      {
       "output_type": "stream",
       "stream": "stdout",
       "text": [
        "\n",
        "\tRead 4000000 words"
       ]
      },
      {
       "output_type": "stream",
       "stream": "stdout",
       "text": [
        "\n",
        "\tStoring greppable string"
       ]
      },
      {
       "output_type": "stream",
       "stream": "stdout",
       "text": [
        "\n"
       ]
      },
      {
       "metadata": {},
       "output_type": "pyout",
       "prompt_number": 45,
       "text": [
        "Wordmap with 4150165 entries like (\"TOOSHIFTLESS\",-28.184927f0)"
       ]
      }
     ],
     "prompt_number": 45
    },
    {
     "cell_type": "code",
     "collapsed": false,
     "input": [
      "atable = build_anagram_table(wordlist)"
     ],
     "language": "python",
     "metadata": {},
     "outputs": [
      {
       "output_type": "stream",
       "stream": "stderr",
       "text": [
        "Warning: Method definition length(Wordlist"
       ]
      },
      {
       "output_type": "stream",
       "stream": "stderr",
       "text": [
        ",) in module Main at /home/rspeer/.julia/IJulia/src/kernel.jl:136 overwritten in module _m_tmp_33092 at /home/rspeer/.julia/IJulia/src/kernel.jl:136.\n",
        "Warning: Method definition keys(Wordlist,) in module Main at /home/rspeer/.julia/IJulia/src/kernel.jl:137 overwritten in module _m_tmp_33092 at /home/rspeer/.julia/IJulia/src/kernel.jl:137.\n",
        "Warning: Method definition start(Wordlist,) in module Main at /home/rspeer/.julia/IJulia/src/kernel.jl:138 overwritten in module _m_tmp_33092 at /home/rspeer/.julia/IJulia/src/kernel.jl:138.\n",
        "Warning: Method definition next(Wordlist,Any) in module Main at /home/rspeer/.julia/IJulia/src/kernel.jl:139 overwritten in module _m_tmp_33092 at /home/rspeer/.julia/IJulia/src/kernel.jl:139.\n",
        "Warning: Method definition done(Wordlist,Any) in module Main at /home/rspeer/.julia/IJulia/src/kernel.jl:140 overwritten in module _m_tmp_33092 at /home/rspeer/.julia/IJulia/src/kernel.jl:140.\n",
        "Warning: Method definition print(IO,Wordlist) in module Main at /home/rspeer/.julia/IJulia/src/kernel.jl:143 overwritten in module _m_tmp_33092 at /home/rspeer/.julia/IJulia/src/kernel.jl:143.\n",
        "Warning: Method definition show(IO,Wordlist) in module Main at /home/rspeer/.julia/IJulia/src/kernel.jl:147 overwritten in module _m_tmp_33092 at /home/rspeer/.julia/IJulia/src/kernel.jl:147.\n",
        "Warning: Method definition getindex(Wordlist,Any) in module Main at /home/rspeer/.julia/IJulia/src/kernel.jl:150 overwritten in module _m_tmp_33092 at /home/rspeer/.julia/IJulia/src/kernel.jl:150.\n",
        "Warning: Method definition haskey(Wordlist,String) in module Main at /home/rspeer/.julia/IJulia/src/kernel.jl:162 overwritten in module _m_tmp_33092 at /home/rspeer/.julia/IJulia/src/kernel.jl:162.\n",
        "Warning: Method definition print(IO,AnagramTable) in module Main at /home/rspeer/.julia/IJulia/src/kernel.jl:561 overwritten in module _m_tmp_33092 at /home/rspeer/.julia/IJulia/src/kernel.jl:599.\n",
        "Warning: Method definition show(IO,AnagramTable) in module Main at /home/rspeer/.julia/IJulia/src/kernel.jl:564 overwritten in module _m_tmp_33092 at /home/rspeer/.julia/IJulia/src/kernel.jl:602.\n",
        "Warning: Method definition length(Wordlist,) in module _m_tmp_33092 at /home/rspeer/.julia/IJulia/src/kernel.jl:136 overwritten in module Main at /home/rspeer/.julia/IJulia/src/kernel.jl:136.\n",
        "Warning: Method definition keys(Wordlist,) in module _m_tmp_33092 at /home/rspeer/.julia/IJulia/src/kernel.jl:137 overwritten in module Main at /home/rspeer/.julia/IJulia/src/kernel.jl:137.\n",
        "Warning: Method definition start(Wordlist,) in module _m_tmp_33092 at /home/rspeer/.julia/IJulia/src/kernel.jl:138 overwritten in module Main at /home/rspeer/.julia/IJulia/src/kernel.jl:138.\n",
        "Warning: Method definition next(Wordlist,Any) in module _m_tmp_33092 at /home/rspeer/.julia/IJulia/src/kernel.jl:139 overwritten in module Main at /home/rspeer/.julia/IJulia/src/kernel.jl:139.\n",
        "Warning: Method definition done(Wordlist,Any) in module _m_tmp_33092 at /home/rspeer/.julia/IJulia/src/kernel.jl:140 overwritten in module Main at /home/rspeer/.julia/IJulia/src/kernel.jl:140.\n",
        "Warning: Method definition print(IO,Wordlist) in module _m_tmp_33092 at /home/rspeer/.julia/IJulia/src/kernel.jl:143 overwritten in module Main at /home/rspeer/.julia/IJulia/src/kernel.jl:143.\n",
        "Warning: Method definition show(IO,Wordlist) in module _m_tmp_33092 at /home/rspeer/.julia/IJulia/src/kernel.jl:147 overwritten in module Main at /home/rspeer/.julia/IJulia/src/kernel.jl:147.\n",
        "Warning: Method definition getindex(Wordlist,Any) in module _m_tmp_33092 at /home/rspeer/.julia/IJulia/src/kernel.jl:150 overwritten in module Main at /home/rspeer/.julia/IJulia/src/kernel.jl:150.\n",
        "Warning: Method definition haskey(Wordlist,String) in module _m_tmp_33092 at /home/rspeer/.julia/IJulia/src/kernel.jl:162 overwritten in module Main at /home/rspeer/.julia/IJulia/src/kernel.jl:162.\n",
        "Warning: redefining constant LetterCountVec\n",
        "Warning: redefining constant LetterCountMat\n",
        "Warning: redefining constant LetterProportionVec\n",
        "Warning: redefining constant LetterProportionMat\n",
        "Warning: Method definition print("
       ]
      },
      {
       "output_type": "stream",
       "stream": "stderr",
       "text": [
        "IO,AnagramTable) in module _m_tmp_33092 at /home/rspeer/.julia/IJulia/src/kernel.jl:599 overwritten in module Main at /home/rspeer/.julia/IJulia/src/kernel.jl:599.\n",
        "Warning: Method definition show(IO,AnagramTable) in module _m_tmp_33092 at /home/rspeer/.julia/IJulia/src/kernel.jl:602 overwritten in module Main at /home/rspeer/.julia/IJulia/src/kernel.jl:602.\n"
       ]
      },
      {
       "output_type": "stream",
       "stream": "stdout",
       "text": [
        "\tgenerating alphagrams of 2 letters\n"
       ]
      },
      {
       "output_type": "stream",
       "stream": "stdout",
       "text": [
        "\tgenerating alphagrams of 3 letters\n",
        "\tgenerating alphagrams of 4 letters\n",
        "\tgenerating alphagrams of 5 letters"
       ]
      },
      {
       "output_type": "stream",
       "stream": "stdout",
       "text": [
        "\n",
        "\tgenerating alphagrams of 6 letters"
       ]
      },
      {
       "output_type": "stream",
       "stream": "stdout",
       "text": [
        "\n",
        "\tgenerating alphagrams of 7 letters"
       ]
      },
      {
       "output_type": "stream",
       "stream": "stdout",
       "text": [
        "\n",
        "\tgenerating alphagrams of 8 letters"
       ]
      },
      {
       "output_type": "stream",
       "stream": "stdout",
       "text": [
        "\n",
        "\tgenerating alphagrams of 9 letters"
       ]
      },
      {
       "output_type": "stream",
       "stream": "stdout",
       "text": [
        "\n",
        "\tgenerating alphagrams of 10 letters"
       ]
      },
      {
       "output_type": "stream",
       "stream": "stdout",
       "text": [
        "\n",
        "\tgenerating alphagrams of 11 letters"
       ]
      },
      {
       "output_type": "stream",
       "stream": "stdout",
       "text": [
        "\n",
        "\tgenerating alphagrams of 12 letters"
       ]
      },
      {
       "output_type": "stream",
       "stream": "stdout",
       "text": [
        "\n",
        "\tgenerating alphagrams of 13 letters"
       ]
      },
      {
       "output_type": "stream",
       "stream": "stdout",
       "text": [
        "\n",
        "\tgenerating alphagrams of 14 letters"
       ]
      },
      {
       "output_type": "stream",
       "stream": "stdout",
       "text": [
        "\n",
        "\tgenerating alphagrams of 15 letters"
       ]
      },
      {
       "output_type": "stream",
       "stream": "stdout",
       "text": [
        "\n",
        "\tgenerating alphagrams of 16 letters"
       ]
      },
      {
       "output_type": "stream",
       "stream": "stdout",
       "text": [
        "\n",
        "\tgenerating alphagrams of 17 letters"
       ]
      },
      {
       "output_type": "stream",
       "stream": "stdout",
       "text": [
        "\n",
        "\tgenerating alphagrams of 18 letters"
       ]
      },
      {
       "output_type": "stream",
       "stream": "stdout",
       "text": [
        "\n",
        "\tgenerating alphagrams of 19 letters"
       ]
      },
      {
       "output_type": "stream",
       "stream": "stdout",
       "text": [
        "\n",
        "\tgenerating alphagrams of 20 letters"
       ]
      },
      {
       "output_type": "stream",
       "stream": "stdout",
       "text": [
        "\n",
        "\tgenerating alphagrams of 21 letters"
       ]
      },
      {
       "output_type": "stream",
       "stream": "stdout",
       "text": [
        "\n",
        "\tgenerating alphagrams of 22 letters"
       ]
      },
      {
       "output_type": "stream",
       "stream": "stdout",
       "text": [
        "\n",
        "\tgenerating alphagrams of 23 letters"
       ]
      },
      {
       "output_type": "stream",
       "stream": "stdout",
       "text": [
        "\n",
        "\tgenerating alphagrams of 24 letters"
       ]
      },
      {
       "output_type": "stream",
       "stream": "stdout",
       "text": [
        "\n",
        "\tgenerating alphagrams of 25 letters"
       ]
      },
      {
       "output_type": "stream",
       "stream": "stdout",
       "text": [
        "\n",
        "\tgenerating alphagrams of 26 letters"
       ]
      },
      {
       "output_type": "stream",
       "stream": "stdout",
       "text": [
        "\n",
        "\tgenerating alphagrams of 27 letters"
       ]
      },
      {
       "output_type": "stream",
       "stream": "stdout",
       "text": [
        "\n",
        "\tgenerating alphagrams of 28 letters"
       ]
      },
      {
       "output_type": "stream",
       "stream": "stdout",
       "text": [
        "\n",
        "\tgenerating alphagrams of 29 letters\n",
        "\tgenerating alphagrams of 30 letters\n",
        "\tgenerating alphagrams of 31 letters"
       ]
      },
      {
       "output_type": "stream",
       "stream": "stdout",
       "text": [
        "\n",
        "\tgenerating alphagrams of 32 letters\n",
        "\tgenerating alphagrams of 33 letters\n",
        "\tgenerating alphagrams of 34 letters\n",
        "\tgenerating alphagrams of 35 letters\n",
        "\tgenerating alphagrams of 36 letters\n",
        "\tgenerating alphagrams of 37 letters\n",
        "\tgenerating alphagrams of 38 letters\n",
        "\tgenerating alphagrams of 39 letters\n",
        "\tgenerating alphagrams of 40 letters\n",
        "\tgenerating alphagrams of 52 letters\n",
        "\tgenerating alphagrams of 81 letters\n"
       ]
      },
      {
       "metadata": {},
       "output_type": "pyout",
       "prompt_number": 47,
       "text": [
        "AnagramTable with offsets [1,27,378,3513,16538,48571,116142,233526,405208,626728  \u2026  3506574,3506626,3506653,3506674,3506681,3506688,3506692,3506693,3506696,3506697]"
       ]
      }
     ],
     "prompt_number": 47
    },
    {
     "cell_type": "code",
     "collapsed": false,
     "input": [
      "anagram(atable, \"STARLINE\")"
     ],
     "language": "python",
     "metadata": {},
     "outputs": [
      {
       "metadata": {},
       "output_type": "pyout",
       "prompt_number": 64,
       "text": [
        "1328-element Array{(String,Float32),1}:\n",
        " (\"ENTRAILS\",-20.417192f0) \n",
        " (\"LATRINES\",-21.078648f0) \n",
        " (\"STAR LINE\",-22.940321f0)\n",
        " (\"ITS LEARN\",-23.120556f0)\n",
        " (\"ITS LEARN\",-23.120556f0)\n",
        " (\"IS RENTAL\",-23.93131f0) \n",
        " (\"IS LEARNT\",-23.934122f0)\n",
        " (\"IN ALTERS\",-24.551556f0)\n",
        " (\"IT LEARNS\",-24.717747f0)\n",
        " (\"IN SLATER\",-24.971394f0)\n",
        " (\"ITS RENAL\",-25.404362f0)\n",
        " (\"ART LINES\",-25.485516f0)\n",
        " (\"NEAR LIST\",-25.893913f0)\n",
        " \u22ee                         \n",
        " (\"AISE TRNL\",-50.35605f0) \n",
        " (\"TRNL AISE\",-50.35605f0) \n",
        " (\"IEAN TLRS\",-50.527252f0)\n",
        " (\"TLRS IEAN\",-50.527252f0)\n",
        " (\"ASIE TRLN\",-50.550377f0)\n",
        " (\"TRLN ASIE\",-50.550377f0)\n",
        " (\"EISA TRNL\",-50.90842f0) \n",
        " (\"TRNL EISA\",-50.90842f0) \n",
        " (\"AISE TRLN\",-51.092346f0)\n",
        " (\"TRLN AISE\",-51.092346f0)\n",
        " (\"EISA TRLN\",-51.644722f0)\n",
        " (\"TRLN EISA\",-51.644722f0)"
       ]
      }
     ],
     "prompt_number": 64
    },
    {
     "cell_type": "code",
     "collapsed": false,
     "input": [
      "anagram(atable, \"HIGH NINJA BLOCK MOVE\")"
     ],
     "language": "python",
     "metadata": {},
     "outputs": [
      {
       "metadata": {},
       "output_type": "pyout",
       "prompt_number": 65,
       "text": [
        "19-element Array{(String,Float32),1}:\n",
        " (\"BEING JOHN MALKOVICH\",-36.37961f0) \n",
        " (\"BEGIN JOHN MALKOVICH\",-39.531837f0)\n",
        " (\"BINGE JOHN MALKOVICH\",-45.98362f0) \n",
        " (\"JOHN HEIL MOVING BACK\",-49.45266f0)\n",
        " (\"KJV HEMOGLOBIN CHAIN\",-49.66232f0) \n",
        " (\"HEMIBLOCK JOHN GAVIN\",-51.468422f0)\n",
        " (\"JOHN GAVIN HEMIBLOCK\",-51.468422f0)\n",
        " (\"JOHN COMBE KIVLIGHAN\",-53.928936f0)\n",
        " (\"KIVLIGHAN JOHN COMBE\",-53.928936f0)\n",
        " (\"ANICHKOV JOHN GIMBEL\",-54.089073f0)\n",
        " (\"BOCKHEIM JOHN GALVIN\",-54.59649f0) \n",
        " (\"GOMBIN JOHN HAVLICEK\",-55.151146f0)\n",
        " (\"BEKOVICH JOHN GILMAN\",-55.423286f0)\n",
        " (\"BOMING JOHN HAVLICEK\",-55.630127f0)\n",
        " (\"VJK HEMOGLOBIN CHAIN\",-56.264496f0)\n",
        " (\"KING BHIMA JOHN COVEL\",-56.97828f0)\n",
        " (\"JOHN COVEL KING BHIMA\",-56.97828f0)\n",
        " (\"JOHN HAIG VON LIMBECK\",-57.04151f0)\n",
        " (\"JVK HEMOGLOBIN CHAIN\",-57.279488f0)"
       ]
      }
     ],
     "prompt_number": 65
    },
    {
     "cell_type": "code",
     "collapsed": false,
     "input": [
      "anagram(atable, \"EMPHATICALLY PANTS\")"
     ],
     "language": "python",
     "metadata": {},
     "outputs": [
      {
       "metadata": {},
       "output_type": "pyout",
       "prompt_number": 66,
       "text": [
        "1241-element Array{(String,Float32),1}:\n",
        " (\"PLANT METAPHYSICAL\",-30.36858f0)   \n",
        " (\"PLEASANT LYMPHATIC\",-33.743362f0)  \n",
        " (\"LYMPHATIC PLEASANT\",-33.743362f0)  \n",
        " (\"THAN TYPICAL SAMPLE\",-34.46534f0)  \n",
        " (\"ANALYTIC PAMPHLETS\",-34.862156f0)  \n",
        " (\"PAMPHLETS ANALYTIC\",-34.862156f0)  \n",
        " (\"PANTS EMPHATICALLY\",-35.516747f0)  \n",
        " (\"TEAM PHYSICAL PLANT\",-35.970512f0) \n",
        " (\"MEAT PHYSICAL PLANT\",-36.83059f0)  \n",
        " (\"PAMPHLET ANALYTICS\",-38.308235f0)  \n",
        " (\"ANALYTICS PAMPHLET\",-38.308235f0)  \n",
        " (\"MATE PHYSICAL PLANT\",-38.518646f0) \n",
        " (\"PLANE MYTHICAL PAST\",-39.04355f0)  \n",
        " \u22ee                                    \n",
        " (\"AMPHYLLIS PENTACTA\",-57.17752f0)   \n",
        " (\"PPM NACL ATE HASTILY\",-57.2073f0)  \n",
        " (\"PA PASCAL METHYLTIN\",-57.207672f0) \n",
        " (\"METHYLTIN PA PASCAL\",-57.207672f0) \n",
        " (\"HAYNET PLASTIC PALM\",-57.21714f0)  \n",
        " (\"SAMTLICH PLATYPNEA\",-57.250107f0)  \n",
        " (\"PLATYPNEA SAMTLICH\",-57.250107f0)  \n",
        " (\"CAM PHA SPLIT NEATLY\",-57.315468f0)\n",
        " (\"NAMPALLY PATHETICS\",-57.344025f0)  \n",
        " (\"PATHETICS NAMPALLY\",-57.344025f0)  \n",
        " (\"MATHPAL CINEPLASTY\",-57.349773f0)  \n",
        " (\"PYSHT CAPILLAMENTA\",-57.535057f0)  "
       ]
      }
     ],
     "prompt_number": 66
    },
    {
     "cell_type": "code",
     "collapsed": false,
     "input": [
      "anagram(atable, \"RAGE OF THE QUEBECOIS\")"
     ],
     "language": "python",
     "metadata": {},
     "outputs": [
      {
       "output_type": "stream",
       "stream": "stderr",
       "text": [
        "Warning: Method definition length(Wordlist"
       ]
      },
      {
       "output_type": "stream",
       "stream": "stderr",
       "text": [
        ",) in module Main at /home/rspeer/.julia/IJulia/src/kernel.jl:136 overwritten in module _m_tmp_92351 at /home/rspeer/.julia/IJulia/src/kernel.jl:136.\n",
        "Warning: Method definition keys(Wordlist,) in module Main at /home/rspeer/.julia/IJulia/src/kernel.jl:137 overwritten in module _m_tmp_92351 at /home/rspeer/.julia/IJulia/src/kernel.jl:137.\n",
        "Warning: Method definition start(Wordlist,) in module Main at /home/rspeer/.julia/IJulia/src/kernel.jl:138 overwritten in module _m_tmp_92351 at /home/rspeer/.julia/IJulia/src/kernel.jl:138.\n",
        "Warning: Method definition next(Wordlist,Any) in module Main at /home/rspeer/.julia/IJulia/src/kernel.jl:139 overwritten in module _m_tmp_92351 at /home/rspeer/.julia/IJulia/src/kernel.jl:139.\n",
        "Warning: Method definition done(Wordlist,Any) in module Main at /home/rspeer/.julia/IJulia/src/kernel.jl:140 overwritten in module _m_tmp_92351 at /home/rspeer/.julia/IJulia/src/kernel.jl:140.\n",
        "Warning: Method definition print(IO,Wordlist) in module Main at /home/rspeer/.julia/IJulia/src/kernel.jl:143 overwritten in module _m_tmp_92351 at /home/rspeer/.julia/IJulia/src/kernel.jl:143.\n",
        "Warning: Method definition show(IO,Wordlist) in module Main at /home/rspeer/.julia/IJulia/src/kernel.jl:147 overwritten in module _m_tmp_92351 at /home/rspeer/.julia/IJulia/src/kernel.jl:147.\n",
        "Warning: Method definition getindex(Wordlist,Any) in module Main at /home/rspeer/.julia/IJulia/src/kernel.jl:150 overwritten in module _m_tmp_92351 at /home/rspeer/.julia/IJulia/src/kernel.jl:150.\n",
        "Warning: Method definition haskey(Wordlist,String) in module Main at /home/rspeer/.julia/IJulia/src/kernel.jl:162 overwritten in module _m_tmp_92351 at /home/rspeer/.julia/IJulia/src/kernel.jl:162.\n",
        "Warning: Method definition print(IO,AnagramTable) in module Main at /home/rspeer/.julia/IJulia/src/kernel.jl:603 overwritten in module _m_tmp_92351 at /home/rspeer/.julia/IJulia/src/kernel.jl:640.\n",
        "Warning: Method definition show(IO,AnagramTable) in module Main at /home/rspeer/.julia/IJulia/src/kernel.jl:606 overwritten in module _m_tmp_92351 at /home/rspeer/.julia/IJulia/src/kernel.jl:643.\n",
        "Warning: Method definition length(Wordlist,) in module _m_tmp_92351 at /home/rspeer/.julia/IJulia/src/kernel.jl:136 overwritten in module Main at /home/rspeer/.julia/IJulia/src/kernel.jl:136.\n",
        "Warning: Method definition keys(Wordlist,) in module _m_tmp_92351 at /home/rspeer/.julia/IJulia/src/kernel.jl:137 overwritten in module Main at /home/rspeer/.julia/IJulia/src/kernel.jl:137.\n",
        "Warning: Method definition start(Wordlist,) in module _m_tmp_92351 at /home/rspeer/.julia/IJulia/src/kernel.jl:138 overwritten in module Main at /home/rspeer/.julia/IJulia/src/kernel.jl:138.\n",
        "Warning: Method definition next(Wordlist,Any) in module _m_tmp_92351 at /home/rspeer/.julia/IJulia/src/kernel.jl:139 overwritten in module Main at /home/rspeer/.julia/IJulia/src/kernel.jl:139.\n",
        "Warning: Method definition done(Wordlist,Any) in module _m_tmp_92351 at /home/rspeer/.julia/IJulia/src/kernel.jl:140 overwritten in module Main at /home/rspeer/.julia/IJulia/src/kernel.jl:140.\n",
        "Warning: Method definition print(IO,Wordlist) in module _m_tmp_92351 at /home/rspeer/.julia/IJulia/src/kernel.jl:143 overwritten in module Main at /home/rspeer/.julia/IJulia/src/kernel.jl:143.\n",
        "Warning: Method definition show(IO,Wordlist) in module _m_tmp_92351 at /home/rspeer/.julia/IJulia/src/kernel.jl:147 overwritten in module Main at /home/rspeer/.julia/IJulia/src/kernel.jl:147.\n",
        "Warning: Method definition getindex(Wordlist,Any) in module _m_tmp_92351 at /home/rspeer/.julia/IJulia/src/kernel.jl:150 overwritten in module Main at /home/rspeer/.julia/IJulia/src/kernel.jl:150.\n",
        "Warning: Method definition haskey(Wordlist,String) in module _m_tmp_92351 at /home/rspeer/.julia/IJulia/src/kernel.jl:162 overwritten in module Main at /home/rspeer/.julia/IJulia/src/kernel.jl:162.\n",
        "Warning: redefining constant LetterCountVec\n",
        "Warning: redefining constant LetterCountMat\n",
        "Warning: redefining constant LetterProportionVec\n",
        "Warning: redefining constant LetterProportionMat\n",
        "Warning: Method definition print("
       ]
      },
      {
       "output_type": "stream",
       "stream": "stderr",
       "text": [
        "IO,AnagramTable) in module _m_tmp_92351 at /home/rspeer/.julia/IJulia/src/kernel.jl:640 overwritten in module Main at /home/rspeer/.julia/IJulia/src/kernel.jl:640.\n",
        "Warning: Method definition show(IO,AnagramTable)"
       ]
      },
      {
       "metadata": {},
       "output_type": "pyout",
       "prompt_number": 67,
       "text": [
        "28-element Array{(String,Float32),1}:\n",
        " (\"ECHOES OF BRIQUETAGE\",-46.729702f0) \n",
        " (\"FOREGO QUIET BEACHES\",-47.584328f0) \n",
        " (\"CAIQUES GOETH BEFORE\",-48.587265f0) \n",
        " (\"ACQUISE GOETH BEFORE\",-49.277428f0) \n",
        " (\"HOBIE GROTESQUE FACE\",-50.392937f0) \n",
        " (\"IACQUES GOETH BEFORE\",-50.787224f0) \n",
        " (\"FOREGOES QUIET BEACH\",-50.80139f0)  \n",
        " (\"QUIA EGO BEECH FOREST\",-52.50924f0) \n",
        " (\"QUIBEC GOOSE FEATHER\",-53.21257f0)  \n",
        " (\"QUIBEC GOOSE FEATHER\",-53.21257f0)  \n",
        " (\"GOTHIQUE COARSE BEEF\",-53.320766f0) \n",
        " (\"HAEC EGO BRIEF QUOTES\",-53.562347f0)\n",
        " (\"FORTESQUE EACH BOGIE\",-53.995525f0) \n",
        " \u22ee                                     \n",
        " (\"HE ACQUITS GOE BEFORE\",-54.114044f0)\n",
        " (\"GOE BEFORE HE ACQUITS\",-54.114044f0)\n",
        " (\"BORGHESIA EFECTO QUE\",-54.95377f0)  \n",
        " (\"EFECTO QUE BORGHESIA\",-54.95377f0)  \n",
        " (\"FORGOE QUIET BEACHES\",-55.651543f0) \n",
        " (\"EAT QUICHE OF SEGORBE\",-55.84891f0) \n",
        " (\"OF SEGORBE EAT QUICHE\",-55.84891f0) \n",
        " (\"GOOFER QUIET BEACHES\",-56.127724f0) \n",
        " (\"BEE FORAGE COQUETISH\",-56.34596f0)  \n",
        " (\"COQUETISH BEE FORAGE\",-56.34596f0)  \n",
        " (\"ACHO QUE BESIEGE FORT\",-56.735397f0)\n",
        " (\"QUAE HOC BESIEGE FORT\",-56.944565f0)"
       ]
      },
      {
       "output_type": "stream",
       "stream": "stderr",
       "text": [
        " in module _m_tmp_92351 at /home/rspeer/.julia/IJulia/src/kernel.jl:643 overwritten in module Main at /home/rspeer/.julia/IJulia/src/kernel.jl:643.\n"
       ]
      }
     ],
     "prompt_number": 67
    },
    {
     "cell_type": "code",
     "collapsed": false,
     "input": [
      "logprob(wordlist, \"~\")"
     ],
     "language": "python",
     "metadata": {},
     "outputs": [
      {
       "metadata": {},
       "output_type": "pyout",
       "prompt_number": 68,
       "text": [
        "-1000.0"
       ]
      }
     ],
     "prompt_number": 68
    },
    {
     "cell_type": "code",
     "collapsed": false,
     "input": [],
     "language": "python",
     "metadata": {},
     "outputs": []
    }
   ],
   "metadata": {}
  }
 ]
}