{
 "metadata": {
  "language": "Julia",
  "name": ""
 },
 "nbformat": 3,
 "nbformat_minor": 0,
 "worksheets": [
  {
   "cells": [
    {
     "cell_type": "markdown",
     "metadata": {},
     "source": [
      "# SolverTools demo notebook\n",
      "\n",
      "Welcome! This is not just documentation for solvertools-2014, it's an interactive notebook, running a crazy new programming language called Julia. You can run each command or block of commands by pressing **shift-enter**. If you've used IPython Notebook recently, this will be familiar.\n",
      "\n",
      "I'd prefer that you leave the copy called \"`SolverTools demo`\" alone, so it can always serve as documentation. If you want to try it out, make a copy for yourself. Go to `File > Make a copy...` and give it a new name. That new notebook is yours to mess around with as you please. Or you can make a copy of the notebook called `starter`, which just loads things and lets you proceed from there.\n",
      "\n",
      "**Please don't make my server sad.** Yes, I'm letting you run arbitrary code. Use that power responsibly. And if something seems to be using up way too much CPU time or RAM, you can kill it by pressing **ctrl-M** followed by **i**.\n",
      "\n",
      "## Starting up\n",
      "\n",
      "In the block below, we're going to start by importing the SolverTools code. You have to run that block, or else nothing else will work. The `Autoreload` and `arequire` lines mean that if someone (Rob) changes the underlying code, that new code will be loaded without you having to recompute things.\n",
      "\n",
      "It'll take a moment to compile stuff."
     ]
    },
    {
     "cell_type": "code",
     "collapsed": false,
     "input": [
      "cd(\"/home/rotq/solvertools-2014/julia\")\n",
      "using Autoreload\n",
      "arequire(\"SolverTools.jl\")"
     ],
     "language": "python",
     "metadata": {},
     "outputs": [],
     "prompt_number": 2
    },
    {
     "cell_type": "markdown",
     "metadata": {},
     "source": [
      "## Standardizing strings\n",
      "\n",
      "One simple method is `roman_letters`, which takes text and smashes it into ASCII using the English Roman alphabet. The resulting string contains only capital letters from A to Z, giving us a standardized representation of text that might be used in puzzles.\n",
      "\n",
      "If you use `roman_letters_and_spaces`, it will preserve spaces in the string as well."
     ]
    },
    {
     "cell_type": "code",
     "collapsed": false,
     "input": [
      "roman_letters(\"Rage of the Qu\u00e9b\u00e9cois\")"
     ],
     "language": "python",
     "metadata": {},
     "outputs": [
      {
       "metadata": {},
       "output_type": "pyout",
       "prompt_number": 3,
       "text": [
        "\"RAGEOFTHEQUEBECOIS\""
       ]
      }
     ],
     "prompt_number": 3
    },
    {
     "cell_type": "code",
     "collapsed": false,
     "input": [
      "roman_letters_and_spaces(\"Rage of the Qu\u00e9b\u00e9cois\")"
     ],
     "language": "python",
     "metadata": {},
     "outputs": [
      {
       "metadata": {},
       "output_type": "pyout",
       "prompt_number": 4,
       "text": [
        "\"RAGE OF THE QUEBECOIS\""
       ]
      }
     ],
     "prompt_number": 4
    },
    {
     "cell_type": "markdown",
     "metadata": {},
     "source": [
      "## Ciphers\n",
      "\n",
      "There are two ciphers implemented so far: the Caesar shift and its generalization, the Vigen\u00e8re cipher."
     ]
    },
    {
     "cell_type": "code",
     "collapsed": false,
     "input": [
      "caesar_shift(\"green\", 13)"
     ],
     "language": "python",
     "metadata": {},
     "outputs": [
      {
       "metadata": {},
       "output_type": "pyout",
       "prompt_number": 5,
       "text": [
        "\"TERRA\""
       ]
      }
     ],
     "prompt_number": 5
    },
    {
     "cell_type": "code",
     "collapsed": false,
     "input": [
      "caesar_shift(\"Caesar liked to shift backward by 3\", -3)"
     ],
     "language": "python",
     "metadata": {},
     "outputs": [
      {
       "metadata": {},
       "output_type": "pyout",
       "prompt_number": 6,
       "text": [
        "\"ZXBPXO IFHBA QL PEFCQ YXZHTXOA YV 3\""
       ]
      }
     ],
     "prompt_number": 6
    },
    {
     "cell_type": "code",
     "collapsed": false,
     "input": [
      "caesar_shift(\"You can also give the character that 'A' maps to. Characters are in single quotes.\", 'B')"
     ],
     "language": "python",
     "metadata": {},
     "outputs": [
      {
       "metadata": {},
       "output_type": "pyout",
       "prompt_number": 7,
       "text": [
        "\"ZPV DBO BMTP HJWF UIF DIBSBDUFS UIBU 'B' NBQT UP. DIBSBDUFST BSF JO TJOHMF RVPUFT.\""
       ]
      }
     ],
     "prompt_number": 7
    },
    {
     "cell_type": "markdown",
     "metadata": {},
     "source": [
      "The Vigen\u00e8re cipher applies a cycle of Caesar shifts, specified by the key. Again, the key characters specify what 'A' maps to, so 'A' in the key is the identity.\n",
      "\n",
      "There's an ahistorical variant of Vigen\u00e8re that's often used in the Mystery Hunt, though, where 'Z' is the identity and 'A' adds one. This is the version you get when you add one-based letters mod 26. So this version is implemented too."
     ]
    },
    {
     "cell_type": "code",
     "collapsed": false,
     "input": [
      "vigenere(\"This is the Vigenere cipher\", \"AKEY\")"
     ],
     "language": "python",
     "metadata": {},
     "outputs": [
      {
       "metadata": {},
       "output_type": "pyout",
       "prompt_number": 8,
       "text": [
        "\"TRMQ IC XFE FMEEXIPE MMNHOV\""
       ]
      }
     ],
     "prompt_number": 8
    },
    {
     "cell_type": "code",
     "collapsed": false,
     "input": [
      "vigenere_1based(\"This is the Vigenere cipher\", \"AKEY\")"
     ],
     "language": "python",
     "metadata": {},
     "outputs": [
      {
       "metadata": {},
       "output_type": "pyout",
       "prompt_number": 9,
       "text": [
        "\"USNR JD YGF GNFFYJQF NNOIPW\""
       ]
      }
     ],
     "prompt_number": 9
    },
    {
     "cell_type": "markdown",
     "metadata": {},
     "source": [
      "## Wordlists\n",
      "\n",
      "Most of the cool things you can do with Solvertools require knowing what words look like. To do this, we need an object of type `Wordlist`, which we create with the `load_wordlist` function. Wordlists live in the `../wordlists` directory. To work properly with Solvertools, they need to be tab-separated files, with entries in descending order of frequency.\n",
      "\n",
      "The available wordlists are:\n",
      "\n",
      "* `google-books.freq.txt`: Over 4 million words and bigrams from the Google Books 2012 corpus. This is a nice corpus representing the way language is actually used. Some of the words in it are OCR errors (such as \"ACTUALLV\"), but it's higher quality than other wordlists of its size.\n",
      "* `google-books-1grams.freq.txt`: 960,000 words from Google Books 2012, without the bigrams.\n",
      "\n",
      "When you use the index operator on a wordlist, as in `wordlist[word]`, you get the log probability of that word.\n",
      "\n",
      "Wordlists, unfortunately, take a while to load: about 30 seconds for 1grams, and five minutes for the full list. But once they're loaded, there are things they can do very quickly. This hasn't bothered me much, because once the wordlist is loaded you never have to unload it, unless you restart the Julia kernel.\n",
      "\n",
      "Let's load the 1gram wordlist here."
     ]
    },
    {
     "cell_type": "code",
     "collapsed": false,
     "input": [
      "wordlist = load_wordlist(\"../wordlists/google-books-1grams.freq.txt\")"
     ],
     "language": "python",
     "metadata": {},
     "outputs": [
      {
       "output_type": "stream",
       "stream": "stdout",
       "text": [
        "Loading wordlist: ../wordlists/google-books-1grams.freq.txt\n"
       ]
      },
      {
       "output_type": "stream",
       "stream": "stdout",
       "text": [
        "\tStoring greppable string"
       ]
      },
      {
       "output_type": "stream",
       "stream": "stdout",
       "text": [
        "\n"
       ]
      },
      {
       "metadata": {},
       "output_type": "pyout",
       "prompt_number": 10,
       "text": [
        "Wordmap with 967763 entries like (\"SOPORIFICS\",-25.063282f0)"
       ]
      }
     ],
     "prompt_number": 10
    },
    {
     "cell_type": "markdown",
     "metadata": {},
     "source": [
      "### Searching wordlists with `grep`\n",
      "The `grep` function takes four arguments:\n",
      "\n",
      "1. The wordlist\n",
      "2. A regular expression to match (it's case insensitive and matches the entire word)\n",
      "3. A function to apply to each match\n",
      "4. A number of matches to stop after\n",
      "\n",
      "You can also leave out argument 3 and it'll just return the list of matches. Leave out argument 4 and it'll stop after 10 matches.\n",
      "\n",
      "Here, we find words of at least 8 letters that can be typed on the top row of a QWERTY keyboard. We do the simple version first, which just finds the best 10 matches. In the second version, we print 15 matches with their log probability.\n",
      "\n",
      "Remember that we could have loaded the bigram wordlist and matched two-word phrases as well."
     ]
    },
    {
     "cell_type": "code",
     "collapsed": false,
     "input": [
      "grep(wordlist, \"[qwertyuiop]{8,}\")"
     ],
     "language": "python",
     "metadata": {},
     "outputs": [
      {
       "metadata": {},
       "output_type": "pyout",
       "prompt_number": 19,
       "text": [
        "10-element Array{UTF8String,1}:\n",
        " \"PROPERTY\"  \n",
        " \"TERRITORY\" \n",
        " \"PRIORITY\"  \n",
        " \"REPORTER\"  \n",
        " \"PROPRIETY\" \n",
        " \"PROPRIETOR\"\n",
        " \"PROTOTYPE\" \n",
        " \"REPERTOIRE\"\n",
        " \"TYPEWRITER\"\n",
        " \"ETIQUETTE\" "
       ]
      }
     ],
     "prompt_number": 19
    },
    {
     "cell_type": "code",
     "collapsed": false,
     "input": [
      "grep(wordlist, \"[qwertyuiop]{8,}\", x -> println(\"$x: $(wordlist[x])\"), 15)"
     ],
     "language": "python",
     "metadata": {},
     "outputs": [
      {
       "output_type": "stream",
       "stream": "stdout",
       "text": [
        "PROPERTY: -12.373664\n"
       ]
      },
      {
       "output_type": "stream",
       "stream": "stdout",
       "text": [
        "TERRITORY: -14.0963545\n",
        "PRIORITY: -15.392792\n",
        "REPORTER: -16.256662\n",
        "PROPRIETY: -17.005276\n",
        "PROPRIETOR: -17.044691\n",
        "PROTOTYPE: -17.060108\n",
        "REPERTOIRE: -17.712093\n",
        "TYPEWRITER: -18.190662\n",
        "ETIQUETTE: -18.19096\n",
        "REPERTORY: -18.654533\n",
        "PERPETUITY: -19.266144\n",
        "PRETTIER: -20.179089\n",
        "POURQUOI: -21.048052\n",
        "TOURETTE: -21.059256\n"
       ]
      }
     ],
     "prompt_number": 12
    },
    {
     "cell_type": "markdown",
     "metadata": {},
     "source": [
      "### Measuring text probability with a wordlist\n",
      "\n",
      "The `interpret_text` function takes a wordlist and some text, and tells you what its log probability is with the optimal division of that text into words.\n",
      "\n",
      "Just seeing this division into words can be useful! In 2012, we got stuck at the end of Sovereignty (the Dominion puzzle) with the letters `ATZERODTORVOLOKHEG`, which we didn't think was an answer. But Solvertools knows what it means, dividing it into the correct four-word clue phrase."
     ]
    },
    {
     "cell_type": "code",
     "collapsed": false,
     "input": [
      "interpret_text(wordlist, \"ATZERODTORVOLOKHEG\")"
     ],
     "language": "python",
     "metadata": {},
     "outputs": [
      {
       "metadata": {},
       "output_type": "pyout",
       "prompt_number": 13,
       "text": [
        "(\"ATZERODT OR VOLOKH EG\",-75.71985673904419)"
       ]
      }
     ],
     "prompt_number": 13
    },
    {
     "cell_type": "markdown",
     "metadata": {},
     "source": [
      "If you want to see just the log probability per letter, use `wordness`."
     ]
    },
    {
     "cell_type": "code",
     "collapsed": false,
     "input": [
      "wordness(wordlist, \"ATZERODTORVOLOKHEG\")"
     ],
     "language": "python",
     "metadata": {},
     "outputs": [
      {
       "metadata": {},
       "output_type": "pyout",
       "prompt_number": 14,
       "text": [
        "-4.206658707724677"
       ]
      }
     ],
     "prompt_number": 14
    },
    {
     "cell_type": "code",
     "collapsed": false,
     "input": [
      "wordness(wordlist, \"BENOISY\")"
     ],
     "language": "python",
     "metadata": {},
     "outputs": [
      {
       "metadata": {},
       "output_type": "pyout",
       "prompt_number": 17,
       "text": [
        "-3.49654415675572"
       ]
      }
     ],
     "prompt_number": 17
    },
    {
     "cell_type": "markdown",
     "metadata": {},
     "source": [
      "One thing you can do with that is try many variations on a piece of text, and see which one is the best."
     ]
    },
    {
     "cell_type": "code",
     "collapsed": false,
     "input": [
      "shifts = {}\n",
      "for shift=1:26\n",
      "    word_attempt = caesar_shift(\"BOKLORYFH\", shift)\n",
      "    word, freq = interpret_text(wordlist, word_attempt)\n",
      "    push!(shifts, (shift, word, freq))\n",
      "end\n",
      "sort(shifts, by=x -> -x[3])"
     ],
     "language": "python",
     "metadata": {},
     "outputs": [
      {
       "metadata": {},
       "output_type": "pyout",
       "prompt_number": 23,
       "text": [
        "26-element Array{Any,1}:\n",
        " (3,\"ERNO RUBIK\",-47.42790985107422)   \n",
        " (16,\"RE A BEHOV X\",-57.11393976211548)\n",
        " (20,\"VIE FILS ZB\",-60.00927925109863) \n",
        " (26,\"BOK LORY FH\",-62.87103080749512) \n",
        " (23,\"YL HILO VCE\",-64.27744102478027) \n",
        " (13,\"OB XY BE LSU\",-66.15592384338379)\n",
        " (19,\"UHDE HK RYA\",-67.1876277923584)  \n",
        " (8,\"JWST WZ GNP\",-67.20611572265625)  \n",
        " (12,\"NAW XAD KRT\",-68.57844924926758) \n",
        " (1,\"CPL MPS ZG I\",-69.93061065673828) \n",
        " (4,\"F SO PSV CJL\",-70.36199378967285) \n",
        " (17,\"SFBC FIP WY\",-70.45745086669922) \n",
        " (7,\"IV RSV YF MO\",-71.04591751098633) \n",
        " (6,\"HUQ RUX ELN\",-71.34311866760254)  \n",
        " (14,\"PC YZ CF MTV\",-73.23291492462158)\n",
        " (21,\"WJ FGJ MTAC\",-73.76929092407227) \n",
        " (25,\"AN JK NQX EG\",-74.19279384613037)\n",
        " (5,\"GTP QTW DKM\",-74.38959693908691)  \n",
        " (24,\"ZMI JMP WDF\",-74.82370376586914) \n",
        " (9,\"KX TUX A HOQ\",-75.07813882827759) \n",
        " (2,\"DQM NQT A HJ\",-76.96853494644165) \n",
        " (10,\"LY UV YB IPR\",-77.91624069213867)\n",
        " (15,\"QD ZAD GNU W\",-80.36552238464355)\n",
        " (22,\"X KG HKN UBD\",-80.63977336883545)\n",
        " (18,\"TG CDG JQ XZ\",-88.36129188537598)\n",
        " (11,\"MZ VW Z CJQ S\",-94.1941499710083)"
       ]
      }
     ],
     "prompt_number": 23
    },
    {
     "cell_type": "markdown",
     "metadata": {},
     "source": [
      "## Metatron: filling in phrases"
     ]
    },
    {
     "cell_type": "code",
     "collapsed": false,
     "input": [
      "metatron(goog, \"R..E.F.H.Q...E.O.S\")"
     ],
     "language": "python",
     "metadata": {},
     "outputs": [
      {
       "metadata": {},
       "output_type": "pyout",
       "prompt_number": 16,
       "text": [
        "4-element Array{(UTF8String,Float64),1}:\n",
        " (\"ROLE OF THE QUEBECOIS\",-40.175864696502686) \n",
        " (\"RISE OF THE QUEBECOIS\",-44.32187604904175)  \n",
        " (\"ROLE OF THE QUINE DOES\",-49.72781705856323) \n",
        " (\"RISE OF THE QUINE DOES\",-53.873828411102295)"
       ]
      }
     ],
     "prompt_number": 16
    },
    {
     "cell_type": "code",
     "collapsed": false,
     "input": [],
     "language": "python",
     "metadata": {},
     "outputs": []
    }
   ],
   "metadata": {}
  }
 ]
}