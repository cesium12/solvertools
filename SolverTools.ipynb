{
 "metadata": {
  "language": "Julia",
  "name": ""
 },
 "nbformat": 3,
 "nbformat_minor": 0,
 "worksheets": [
  {
   "cells": [
    {
     "cell_type": "code",
     "collapsed": false,
     "input": [
      "cd(\"/home/rspeer/code/solvertools-2014\")\n",
      "include(\"julia/SolverTools.jl\")\n",
      "using DataFrames"
     ],
     "language": "python",
     "metadata": {},
     "outputs": [],
     "prompt_number": 1
    },
    {
     "cell_type": "code",
     "collapsed": false,
     "input": [
      "roman_letters(\"t\u00e9st\")"
     ],
     "language": "python",
     "metadata": {},
     "outputs": [
      {
       "metadata": {},
       "output_type": "pyout",
       "prompt_number": 2,
       "text": [
        "\"TEST\""
       ]
      }
     ],
     "prompt_number": 2
    },
    {
     "cell_type": "code",
     "collapsed": false,
     "input": [
      "unicode_name('#')"
     ],
     "language": "python",
     "metadata": {},
     "outputs": [
      {
       "metadata": {},
       "output_type": "pyout",
       "prompt_number": 3,
       "text": [
        "\"NUMBER SIGN\""
       ]
      }
     ],
     "prompt_number": 3
    },
    {
     "cell_type": "code",
     "collapsed": false,
     "input": [
      "caesar_shift(\"t\u00e9st\", 7)"
     ],
     "language": "python",
     "metadata": {},
     "outputs": [
      {
       "metadata": {},
       "output_type": "pyout",
       "prompt_number": 4,
       "text": [
        "\"A\u00e9ZA\""
       ]
      }
     ],
     "prompt_number": 4
    },
    {
     "cell_type": "code",
     "collapsed": false,
     "input": [],
     "language": "python",
     "metadata": {},
     "outputs": [
      {
       "metadata": {},
       "output_type": "pyout",
       "prompt_number": 6,
       "text": [
        "1.389593088967023e9"
       ]
      }
     ],
     "prompt_number": 6
    },
    {
     "cell_type": "code",
     "collapsed": false,
     "input": [
      "start_time = time()\n",
      "goog = load_wordlist(\"wordlists/google-books.freq.txt\")\n",
      "elapsed = time() - start_time\n",
      "println(\"Elapsed time: $elapsed\")"
     ],
     "language": "python",
     "metadata": {},
     "outputs": [
      {
       "output_type": "stream",
       "stream": "stdout",
       "text": [
        "Read 100000 words\n"
       ]
      },
      {
       "output_type": "stream",
       "stream": "stdout",
       "text": [
        "Read 200000 words"
       ]
      },
      {
       "output_type": "stream",
       "stream": "stdout",
       "text": [
        "\n",
        "Read 300000 words"
       ]
      },
      {
       "output_type": "stream",
       "stream": "stdout",
       "text": [
        "\n",
        "Read 400000 words"
       ]
      },
      {
       "output_type": "stream",
       "stream": "stdout",
       "text": [
        "\n",
        "Read 500000 words"
       ]
      },
      {
       "output_type": "stream",
       "stream": "stdout",
       "text": [
        "\n",
        "Read 600000 words"
       ]
      },
      {
       "output_type": "stream",
       "stream": "stdout",
       "text": [
        "\n",
        "Read 700000 words"
       ]
      },
      {
       "output_type": "stream",
       "stream": "stdout",
       "text": [
        "\n",
        "Read 800000 words"
       ]
      },
      {
       "output_type": "stream",
       "stream": "stdout",
       "text": [
        "\n",
        "Read 900000 words"
       ]
      },
      {
       "output_type": "stream",
       "stream": "stdout",
       "text": [
        "\n",
        "Read 1000000 words"
       ]
      },
      {
       "output_type": "stream",
       "stream": "stdout",
       "text": [
        "\n",
        "Read 1100000 words"
       ]
      },
      {
       "output_type": "stream",
       "stream": "stdout",
       "text": [
        "\n",
        "Read 1200000 words"
       ]
      },
      {
       "output_type": "stream",
       "stream": "stdout",
       "text": [
        "\n",
        "Read 1300000 words"
       ]
      },
      {
       "output_type": "stream",
       "stream": "stdout",
       "text": [
        "\n",
        "Read 1400000 words"
       ]
      },
      {
       "output_type": "stream",
       "stream": "stdout",
       "text": [
        "\n",
        "Read 1500000 words"
       ]
      },
      {
       "output_type": "stream",
       "stream": "stdout",
       "text": [
        "\n",
        "Read 1600000 words"
       ]
      },
      {
       "output_type": "stream",
       "stream": "stdout",
       "text": [
        "\n",
        "Read 1700000 words"
       ]
      },
      {
       "output_type": "stream",
       "stream": "stdout",
       "text": [
        "\n",
        "Read 1800000 words"
       ]
      },
      {
       "output_type": "stream",
       "stream": "stdout",
       "text": [
        "\n",
        "Read 1900000 words"
       ]
      },
      {
       "output_type": "stream",
       "stream": "stdout",
       "text": [
        "\n",
        "Read 2000000 words"
       ]
      },
      {
       "output_type": "stream",
       "stream": "stdout",
       "text": [
        "\n",
        "Read 2100000 words"
       ]
      },
      {
       "output_type": "stream",
       "stream": "stdout",
       "text": [
        "\n",
        "Read 2200000 words"
       ]
      },
      {
       "output_type": "stream",
       "stream": "stdout",
       "text": [
        "\n",
        "Read 2300000 words"
       ]
      },
      {
       "output_type": "stream",
       "stream": "stdout",
       "text": [
        "\n",
        "Read 2400000 words"
       ]
      },
      {
       "output_type": "stream",
       "stream": "stdout",
       "text": [
        "\n",
        "Read 2500000 words"
       ]
      },
      {
       "output_type": "stream",
       "stream": "stdout",
       "text": [
        "\n",
        "Read 2600000 words"
       ]
      },
      {
       "output_type": "stream",
       "stream": "stdout",
       "text": [
        "\n",
        "Read 2700000 words"
       ]
      },
      {
       "output_type": "stream",
       "stream": "stdout",
       "text": [
        "\n",
        "Read 2800000 words"
       ]
      },
      {
       "output_type": "stream",
       "stream": "stdout",
       "text": [
        "\n",
        "Read 2900000 words"
       ]
      },
      {
       "output_type": "stream",
       "stream": "stdout",
       "text": [
        "\n",
        "Read 3000000 words"
       ]
      },
      {
       "output_type": "stream",
       "stream": "stdout",
       "text": [
        "\n",
        "Read 3100000 words"
       ]
      },
      {
       "output_type": "stream",
       "stream": "stdout",
       "text": [
        "\n",
        "Read 3200000 words"
       ]
      },
      {
       "output_type": "stream",
       "stream": "stdout",
       "text": [
        "\n",
        "Read 3300000 words"
       ]
      },
      {
       "output_type": "stream",
       "stream": "stdout",
       "text": [
        "\n",
        "Read 3400000 words"
       ]
      },
      {
       "output_type": "stream",
       "stream": "stdout",
       "text": [
        "\n",
        "Read 3500000 words"
       ]
      },
      {
       "output_type": "stream",
       "stream": "stdout",
       "text": [
        "\n",
        "Read 3600000 words"
       ]
      },
      {
       "output_type": "stream",
       "stream": "stdout",
       "text": [
        "\n",
        "Read 3700000 words"
       ]
      },
      {
       "output_type": "stream",
       "stream": "stdout",
       "text": [
        "\n",
        "Read 3800000 words"
       ]
      },
      {
       "output_type": "stream",
       "stream": "stdout",
       "text": [
        "\n",
        "Read 3900000 words"
       ]
      },
      {
       "output_type": "stream",
       "stream": "stdout",
       "text": [
        "\n",
        "Read 4000000 words"
       ]
      },
      {
       "output_type": "stream",
       "stream": "stdout",
       "text": [
        "\n",
        "Read 4100000 words"
       ]
      },
      {
       "output_type": "stream",
       "stream": "stdout",
       "text": [
        "\n",
        "Handling words of length 1"
       ]
      },
      {
       "output_type": "stream",
       "stream": "stdout",
       "text": [
        "\n",
        "Handling words of length 2\n",
        "Handling words of length 3\n",
        "Handling words of length 4\n",
        "Handling words of length 5\n",
        "Handling words of length 6"
       ]
      },
      {
       "output_type": "stream",
       "stream": "stdout",
       "text": [
        "\n",
        "Handling words of length 7\n",
        "Handling words of length 8"
       ]
      },
      {
       "output_type": "stream",
       "stream": "stdout",
       "text": [
        "\n",
        "Handling words of length 9"
       ]
      },
      {
       "output_type": "stream",
       "stream": "stdout",
       "text": [
        "\n",
        "Handling words of length 10\n",
        "Handling words of length 11"
       ]
      },
      {
       "output_type": "stream",
       "stream": "stdout",
       "text": [
        "\n",
        "Handling words of length 12"
       ]
      },
      {
       "output_type": "stream",
       "stream": "stdout",
       "text": [
        "\n",
        "Handling words of length 13"
       ]
      },
      {
       "output_type": "stream",
       "stream": "stdout",
       "text": [
        "\n",
        "Handling words of length 14"
       ]
      },
      {
       "output_type": "stream",
       "stream": "stdout",
       "text": [
        "\n",
        "Handling words of length 15"
       ]
      },
      {
       "output_type": "stream",
       "stream": "stdout",
       "text": [
        "\n",
        "Handling words of length 16"
       ]
      },
      {
       "output_type": "stream",
       "stream": "stdout",
       "text": [
        "\n",
        "Handling words of length 17"
       ]
      },
      {
       "output_type": "stream",
       "stream": "stdout",
       "text": [
        "\n",
        "Handling words of length 18\n",
        "Handling words of length 19"
       ]
      },
      {
       "output_type": "stream",
       "stream": "stdout",
       "text": [
        "\n",
        "Handling words of length 20\n",
        "Handling words of length 21\n",
        "Handling words of length 22"
       ]
      },
      {
       "output_type": "stream",
       "stream": "stdout",
       "text": [
        "\n",
        "Handling words of length 23\n",
        "Handling words of length 24\n",
        "Handling words of length 25\n",
        "Handling words of length 26\n",
        "Handling words of length 27\n",
        "Handling words of length 28\n",
        "Handling words of length 29\n",
        "Handling words of length 30\n",
        "Storing greppable string\n",
        "Elapsed time: 207.00914311408997"
       ]
      },
      {
       "output_type": "stream",
       "stream": "stdout",
       "text": [
        "\n"
       ]
      }
     ],
     "prompt_number": 7
    },
    {
     "cell_type": "code",
     "collapsed": false,
     "input": [
      "grep(goog, \"v..l.....e\", x -> println(\"$x: $(goog[x])\"))"
     ],
     "language": "python",
     "metadata": {},
     "outputs": [
      {
       "output_type": "stream",
       "stream": "stdout",
       "text": [
        "VILLENEUVE: -21.11808931732206\n"
       ]
      },
      {
       "output_type": "stream",
       "stream": "stdout",
       "text": [
        "VILLEINAGE: -23.6043472803047\n",
        "VILLANELLE: -23.895270808274244\n",
        "VILLIERSDE: -24.130771800885206\n",
        "VILLAVERDE: -24.35659451688769\n",
        "VAULTSWERE: -24.36788756013268\n",
        "VIOLETBLUE: -24.460802622900523\n",
        "VIOLETSARE: -24.60874253980605\n",
        "VILLASWERE: -24.75247582995909\n",
        "VIOLINCASE: -24.79591878449776\n",
        "VAULTABOVE: -24.862360749263136\n",
        "VALLENTINE: -24.93863524891526\n",
        "VIOLATEDUE: -25.02018639348605\n",
        "VAULTWHERE: -25.205851857271348\n",
        "VILLAINAGE: -25.339469580633377\n",
        "VORLAUFIGE: -25.44869294062253\n",
        "VILLEMARIE: -25.50485994544796\n",
        "VALLEYPIKE: -25.59783637992834\n",
        "VALLECULAE: -26.06832727827377\n",
        "VEILEDFACE: -26.13159652796471\n",
        "VILLALANTE: -26.153764988743788\n",
        "VALLENTYNE: -26.23959516675668\n",
        "VIALEDELLE: -26.59419397519728\n",
        "VILLASANTE: -26.60820674834242\n",
        "VILLAREALE: -26.677815707578198\n",
        "VOULUFAIRE: -26.717549323913552\n",
        "VERLAGNEUE: -26.81275158652866"
       ]
      },
      {
       "output_type": "stream",
       "stream": "stdout",
       "text": [
        "\n",
        "VOLLENDETE: -26.856804032212487\n",
        "VILLEMARIE: -25.50485994544796\n",
        "VOLLEYFIRE: -26.924940341018377\n",
        "VIOLINTONE: -26.95421118573224\n",
        "VALLEYSLIE: -27.023142214661007\n",
        "VILLEFOSSE: -27.041212072805017\n",
        "VALLEYSIDE: -27.067485320245268\n",
        "VALLEMAGNE: -27.13291707271676\n",
        "VILLAVERDE: -24.35659451688769\n",
        "VILLASTYLE: -27.190875251059346\n",
        "VALLIESARE: -27.19961191705042\n",
        "VIOLETHAZE: -27.213049674771554\n",
        "VERLASSENE: -27.30581772672493\n",
        "VIOLETBLUE: -24.460802622900523\n",
        "VAULABELLE: -27.39067653650988\n",
        "VIELEJAHRE: -27.418856108344606\n",
        "VILLAGEALE: -27.461355485540317\n",
        "VVALENTINE: -27.488145176760302\n",
        "VIOLETEDGE: -27.572829240634633\n",
        "VILLELIBRE: -27.618343899887\n",
        "VIOLETROBE: -27.787575464622435\n",
        "VOLLEYCAME: -27.79174109323612\n",
        "VILLAGROVE: -27.88953962625098\n",
        "VIOLAZIONE: -27.95187861442235\n",
        "VILLEPIGUE: -27.956547534487196\n",
        "VIOLETFANE: -27.96750080324642\n",
        "VILLEGASDE: -28.004087092371808"
       ]
      },
      {
       "output_type": "stream",
       "stream": "stdout",
       "text": [
        "\n",
        "VALLEYISLE: -28.087829183188223\n",
        "VALLERIITE: -28.090392456070205\n",
        "VOLLENHOVE: -28.093817253027822\n",
        "VALLEYWARE: -28.093817253027822\n",
        "VIOLETTEDE: -28.193169249063573\n",
        "VILLAJULIE: -28.207010369371577\n",
        "VAULTGUIDE: -28.219114367787036\n",
        "VALLEVERDE: -28.229436132432813\n",
        "VONLAROCHE: -28.30581772672493\n",
        "VAILLANTGE: -28.319785837617474\n",
        "VILLAFAFIE: -28.32279668053472\n",
        "VALLEMAGNE: -27.13291707271676\n",
        "VIELELEUTE: -28.392784199471873\n",
        "VEULENTQUE: -28.412962081409503\n",
        "VOGLIODIRE: -28.422619429012634\n",
        "VOULAITQUE: -28.425852964264415\n",
        "VALLABHITE: -28.428012687782854\n",
        "VILLEMAIRE: -28.475246359663846\n",
        "VILLEBASSE: -28.47636342905058\n",
        "VIOLETTONE: -28.58784181148966\n",
        "VILLADELLE: -28.72582832655341\n",
        "VILLENEUVE: -21.11808931732206\n",
        "VILLEMORTE: -28.739174351801147\n",
        "VANLTALLIE: -28.788268901329317\n",
        "VILLECOMME: -28.799409458934516\n",
        "VILLAMARIE: -28.806416248039575\n",
        "VOLLZOGENE: -28.81345723342015\n",
        "VIOLETVALE: -28.823372702285234\n",
        "VILLEPINTE: -28.839093160406996\n",
        "VAILLANTDE: -28.84053082374559\n"
       ]
      }
     ],
     "prompt_number": 6
    },
    {
     "cell_type": "code",
     "collapsed": false,
     "input": [
      "interpret_text(goog, \"MULUGETAWENDIMU\")"
     ],
     "language": "python",
     "metadata": {},
     "outputs": [
      {
       "metadata": {},
       "output_type": "pyout",
       "prompt_number": 13,
       "text": [
        "(\"MULUGETA WENDI MU\",-69.66659054722265)"
       ]
      }
     ],
     "prompt_number": 13
    },
    {
     "cell_type": "code",
     "collapsed": false,
     "input": [
      "out = open(\"wordlists/google-books.julia.dat\", \"w\")\n",
      "serialize(out, goog)\n",
      "close(out)"
     ],
     "language": "python",
     "metadata": {},
     "outputs": [
      {
       "ename": "LoadError",
       "evalue": "type IOStream has no field close\nat In[15]:3",
       "output_type": "pyerr",
       "traceback": [
        "type IOStream has no field close\nat In[15]:3"
       ]
      }
     ],
     "prompt_number": 15
    },
    {
     "cell_type": "code",
     "collapsed": false,
     "input": [
      "start_time = time()\n",
      "infile = open(\"wordlists/google-books.julia.dat\")\n",
      "wl2 = deserialize(infile)\n",
      "close(infile)\n",
      "elapsed = time() - start_time\n",
      "println(\"Elapsed time: $elapsed\")"
     ],
     "language": "python",
     "metadata": {},
     "outputs": [
      {
       "output_type": "stream",
       "stream": "stdout",
       "text": [
        "Elapsed time: 90.07041907310486\n"
       ]
      }
     ],
     "prompt_number": 8
    },
    {
     "cell_type": "code",
     "collapsed": false,
     "input": [],
     "language": "python",
     "metadata": {},
     "outputs": []
    },
    {
     "cell_type": "code",
     "collapsed": false,
     "input": [
      "bfreq = bigram_table(goog)\n",
      "bprob = broadcast(/, float(bfreq), sum(bfreq, 1))\n",
      "blogprob = log2(bprob)"
     ],
     "language": "python",
     "metadata": {},
     "outputs": [
      {
       "metadata": {},
       "output_type": "pyout",
       "prompt_number": 77,
       "text": [
        "27x27 Array{Float64,2}:\n",
        " -11.248     -3.02684    -3.23812  \u2026   -3.27931   -3.22388     -5.10712\n",
        "  -6.06071   -7.31762   -10.889        -3.5999   -10.7673      -9.61592\n",
        "  -4.2377   -11.2015     -5.66313      -5.62886   -6.93755     -7.32649\n",
        "  -6.02416   -9.1716    -10.5304       -5.37423   -8.86821     -3.33482\n",
        "  -3.90467   -5.99711    -3.15723      -3.86438   -4.55002     -2.32042\n",
        "  -5.95879  -12.205     -12.2874   \u2026   -7.83364  -11.7564      -4.42371\n",
        "  -6.06316  -11.1474    -13.3843       -6.32254   -9.64274     -5.0851 \n",
        "  -3.46809   -8.65056   -11.3867       -5.31299   -8.31987     -5.20677\n",
        "  -5.11516   -4.24366    -2.59179     -11.1217    -0.943262    -6.95249\n",
        "  -8.51283  -13.964     -14.3679      -14.8597   -12.7489     -12.0285 \n",
        "  -8.75084  -10.7316    -13.5108   \u2026   -8.20002  -12.4937      -6.94216\n",
        "  -4.24761   -7.91377    -8.35604      -2.31598   -7.60134     -4.84716\n",
        "  -4.15255   -4.36513    -9.61307      -5.07594  -10.6608      -5.90087\n",
        "   \u22ee                               \u22f1               \u22ee                   \n",
        "  -4.96708  -10.3544    -11.4743   \u2026   -7.41364   -9.04795     -7.52083\n",
        " -14.7616   -15.0614    -16.1207      -19.0501   -15.3329     -12.8375 \n",
        "  -3.8674    -6.03283    -5.11677      -3.09271   -6.74727     -4.08237\n",
        "  -5.5086    -7.73619    -4.7219       -5.19506   -7.66839     -2.94754\n",
        "  -4.24886   -9.29102    -7.29281      -3.21829   -4.5205      -3.48686\n",
        "  -6.22322   -4.39469    -4.50153  \u2026   -8.73823   -5.697       -7.96876\n",
        "  -6.15717  -13.8156    -13.5956       -8.71206  -12.0076     -10.6207 \n",
        "  -4.73974  -10.5384    -12.3123       -9.58497  -12.878       -6.93726\n",
        "  -8.42755  -13.843      -7.33828      -9.45901  -14.3104      -9.20261\n",
        "  -9.03738   -8.64586    -8.16849     -13.4425    -6.06424     -4.06229\n",
        "  -8.52814  -12.4891    -14.9265   \u2026   -9.61349   -5.29468    -11.2773 \n",
        "  -1.75034   -0.699696   -1.62147      -3.40098   -3.15965   -Inf      "
       ]
      }
     ],
     "prompt_number": 77
    },
    {
     "cell_type": "code",
     "collapsed": false,
     "input": [
      "ufreq = letter_table(goog)"
     ],
     "language": "python",
     "metadata": {},
     "outputs": [
      {
       "metadata": {},
       "output_type": "pyout",
       "prompt_number": 78,
       "text": [
        "26-element Array{Int64,1}:\n",
        " 147326436259\n",
        "  27304901680\n",
        "  61227220099\n",
        "  69322793980\n",
        " 226916836089\n",
        "  43365717623\n",
        "  34313904462\n",
        "  91337955379\n",
        " 138384251989\n",
        "   2982162378\n",
        "  10261583554\n",
        "  74734420677\n",
        "  46119150109\n",
        " 131845670091\n",
        " 138925966826\n",
        "  39121717335\n",
        "   2232374064\n",
        " 114841223584\n",
        " 118911749446\n",
        " 167830834298\n",
        "  50116522720\n",
        "  19251413057\n",
        "  30211319669\n",
        "   4312634505\n",
        "  30320353781\n",
        "   1857852268"
       ]
      }
     ],
     "prompt_number": 78
    },
    {
     "cell_type": "code",
     "collapsed": false,
     "input": [],
     "language": "python",
     "metadata": {},
     "outputs": []
    }
   ],
   "metadata": {}
  }
 ]
}